{
 "cells": [
  {
   "cell_type": "code",
   "execution_count": 1,
   "metadata": {},
   "outputs": [],
   "source": [
    "import numpy as np\n",
    "from scripts.matrix_utils import compute_q_pi"
   ]
  },
  {
   "cell_type": "markdown",
   "metadata": {},
   "source": [
    "# Scenario 1\n",
    "\n",
    "Consider a simplified example of Futsal, which is a game of European football played on a smaller court with five player teams.  Denote the players as A, B, C, D, E.  An augmented passing matrix could be as follows\n",
    "\n",
    "\\begin{equation}\n",
    "P = \\left[\n",
    "\\begin{array}{cc}\n",
    "\\left(\\begin{array}{ccccc}\n",
    "0    & 0.40 & 0.25 & 0.20 & 0.10 \\\\\n",
    "0.15 & 0    & 0.34 & 0.25 & 0.10 \\\\\n",
    "0.05 & 0.15 & 0    & 0.20 & 0.30 \\\\\n",
    "0.05 & 0.15 & 0.20 & 0    & 0.20 \\\\\n",
    "0    & 0.05 & 0.25 & 0.25 & 0    \\\\\n",
    "\\end{array}\\right) & \n",
    "\\begin{array}{cc}\n",
    "0    & 0.05 \\\\\n",
    "0.01 & 0.15 \\\\\n",
    "0.05 & 0.25 \\\\\n",
    "0.10 & 0.20 \\\\\n",
    "0.15 & 0.30 \\\\\n",
    "\\end{array} \\\\\n",
    "\\begin{array}{cccccccccc}\n",
    "\\hspace{7pt}0\\hspace{7pt}&\\hspace{7pt} 0 \\hspace{7pt}   &\\hspace{7pt} 0\\hspace{7pt}    &\\hspace{7pt} 0\\hspace{7pt}    &\\hspace{7pt} 0 \\hspace{7pt}   \\\\\n",
    "\\hspace{7pt}0\\hspace{7pt}&\\hspace{7pt} 0 \\hspace{7pt}   &\\hspace{7pt} 0\\hspace{7pt}    &\\hspace{7pt} 0\\hspace{7pt}    &\\hspace{7pt} 0 \\hspace{7pt}   \\\\\n",
    "\\end{array} & \n",
    "\\begin{array}{cc}\n",
    "\\hspace{7pt}1\\hspace{7pt}    &\\hspace{7pt} 0 \\hspace{7pt}   \\\\\n",
    "\\hspace{7pt}0\\hspace{7pt}    &\\hspace{7pt} 1  \\hspace{7pt}  \\\\\n",
    "\\end{array}\n",
    "\\end{array}\n",
    "\\right]\n",
    "\\end{equation}\n",
    "\n",
    "where the upper $5 \\times 5$ block is according to the passing matrix.  For example, the first row corresponds to the goalkeeper (A), who has respective probabilities 0.4, 0.25, 0.2, and 0.1 of passing to players B, C, D, E.  The goalkeeper has probability 0 to directly transfer ball possession to the $S$ state (6th column), and has probability 0.05 of making an unsuccessful pass or turnover.  Note that each row sum is 1.  The rows are presented in order of field position, so player B is a defender, players C and D are wing playmakers, and player E is the primary scorer.  Note that the probability of leaving state $S$ is 0, and the same is true for state $U$ (missed passes and/or turnovers), since the team possession ends when the ball reaches that state.  Additionally, let the probability that any given team possession begins with a player be given by initial distribution\n",
    "\n",
    "\\begin{equation}\n",
    "\\alpha = (0.35, 0.26, 0.17, 0.17, 0.05).\n",
    "\\end{equation}\n",
    "\n",
    "For example, player $B$ begins a team possession with probability 0.26, which could be due to pass interceptions, steals, recoveries, etc.  Denote respectively for players $A, \\ldots, E$ as $q_1, \\ldots, q_5$, recalling that $q_j$ is the probability that player $j$ is involved in a team possession that ends in state $S$.  "
   ]
  },
  {
   "cell_type": "code",
   "execution_count": 2,
   "metadata": {},
   "outputs": [
    {
     "name": "stdout",
     "output_type": "stream",
     "text": [
      "[[0.   0.4  0.25 0.2  0.1  0.   0.05]\n",
      " [0.15 0.   0.34 0.25 0.1  0.01 0.15]\n",
      " [0.05 0.15 0.   0.2  0.3  0.05 0.25]\n",
      " [0.05 0.15 0.2  0.   0.2  0.1  0.2 ]\n",
      " [0.   0.05 0.25 0.25 0.   0.15 0.3 ]\n",
      " [0.   0.   0.   0.   0.   1.   0.  ]\n",
      " [0.   0.   0.   0.   0.   0.   1.  ]]\n",
      "[0.35 0.26 0.17 0.17 0.05]\n"
     ]
    }
   ],
   "source": [
    "P = np.array([\n",
    "    [0.00, 0.40, 0.25, 0.20, 0.10, 0.00, 0.05],\n",
    "    [0.15, 0.00, 0.34, 0.25, 0.10, 0.01, 0.15],\n",
    "    [0.05, 0.15, 0.00, 0.20, 0.30, 0.05, 0.25],\n",
    "    [0.05, 0.15, 0.20, 0.00, 0.20, 0.10, 0.20],\n",
    "    [0.00, 0.05, 0.25, 0.25, 0.00, 0.15, 0.30],\n",
    "    [0.00, 0.00, 0.00, 0.00, 0.00, 1.00, 0.00],\n",
    "    [0.00, 0.00, 0.00, 0.00, 0.00, 0.00, 1.00]\n",
    "])\n",
    "\n",
    "alpha = np.array([0.35, 0.26, 0.17, 0.17, 0.05])\n",
    "\n",
    "print(P)\n",
    "print(alpha)\n",
    "\n",
    "\n"
   ]
  },
  {
   "cell_type": "markdown",
   "metadata": {},
   "source": [
    "# Scenario 1"
   ]
  },
  {
   "cell_type": "code",
   "execution_count": 3,
   "metadata": {},
   "outputs": [
    {
     "name": "stdout",
     "output_type": "stream",
     "text": [
      "Vector q:\n",
      "q_0 = 0.4445\n",
      "q_1 = 0.5177\n",
      "q_2 = 0.6127\n",
      "q_3 = 0.6387\n",
      "q_4 = 0.5785\n",
      "\n",
      "Vector pi:\n",
      "pi_0 = 0.1592\n",
      "pi_1 = 0.1854\n",
      "pi_2 = 0.2194\n",
      "pi_3 = 0.2287\n",
      "pi_4 = 0.2072\n"
     ]
    }
   ],
   "source": [
    "# Compute q and pi\n",
    "q, pi = compute_q_pi(P, alpha)\n",
    "\n",
    "# Display the results\n",
    "print(\"Vector q:\")\n",
    "for j, q_val in enumerate(q):\n",
    "    print(f\"q_{j} = {q_val:.4f}\")\n",
    "\n",
    "print(\"\\nVector pi:\")\n",
    "for j, pi_val in enumerate(pi):\n",
    "    print(f\"pi_{j} = {pi_val:.4f}\")\n"
   ]
  },
  {
   "cell_type": "markdown",
   "metadata": {},
   "source": [
    "# Scenario 2\n",
    "\n",
    "Changes $p_{5,S}=0.25$ from $0.15$ and $p_{5,U}=0.2$ from $0.3$, making player E much more successful at scoring."
   ]
  },
  {
   "cell_type": "code",
   "execution_count": 4,
   "metadata": {},
   "outputs": [
    {
     "name": "stdout",
     "output_type": "stream",
     "text": [
      "[[0.   0.4  0.25 0.2  0.1  0.   0.05]\n",
      " [0.15 0.   0.34 0.25 0.1  0.01 0.15]\n",
      " [0.05 0.15 0.   0.2  0.3  0.05 0.25]\n",
      " [0.05 0.15 0.2  0.   0.2  0.1  0.2 ]\n",
      " [0.   0.05 0.25 0.25 0.   0.25 0.2 ]\n",
      " [0.   0.   0.   0.   0.   1.   0.  ]\n",
      " [0.   0.   0.   0.   0.   0.   1.  ]]\n",
      "Vector q:\n",
      "q_0 = 0.4469\n",
      "q_1 = 0.5151\n",
      "q_2 = 0.6114\n",
      "q_3 = 0.6043\n",
      "q_4 = 0.6687\n",
      "\n",
      "Vector pi:\n",
      "pi_0 = 0.1570\n",
      "pi_1 = 0.1810\n",
      "pi_2 = 0.2148\n",
      "pi_3 = 0.2123\n",
      "pi_4 = 0.2349\n"
     ]
    }
   ],
   "source": [
    "# Python begins indices at 0, so we need to adjust by 1.\n",
    "P_2 = np.copy(P)\n",
    "P_2[4,5] = 0.25  # from 0.15\n",
    "P_2[4,6] = 0.20  # from 0.3\n",
    "\n",
    "print(P_2)\n",
    "\n",
    "# Compute q and pi\n",
    "q_2, pi_2 = compute_q_pi(P_2, alpha)\n",
    "\n",
    "# Display the results\n",
    "print(\"Vector q:\")\n",
    "for j, q_val in enumerate(q_2):\n",
    "    print(f\"q_{j} = {q_val:.4f}\")\n",
    "\n",
    "print(\"\\nVector pi:\")\n",
    "for j, pi_val in enumerate(pi_2):\n",
    "    print(f\"pi_{j} = {pi_val:.4f}\")"
   ]
  },
  {
   "cell_type": "markdown",
   "metadata": {},
   "source": [
    "# Scenario 3\n",
    "\n",
    "Changing $\\alpha = (0.3, 0.45, 0.10, 0.10, 0.05)$, making the defender player $B$ begin possessions more often (true for defensive players), and in turn, lowering the initial possession probabilities for $A$, $C, D,$ and $E$."
   ]
  },
  {
   "cell_type": "code",
   "execution_count": 5,
   "metadata": {},
   "outputs": [
    {
     "name": "stdout",
     "output_type": "stream",
     "text": [
      "Vector q:\n",
      "q_0 = 0.4296\n",
      "q_1 = 0.6444\n",
      "q_2 = 0.6040\n",
      "q_3 = 0.6181\n",
      "q_4 = 0.5870\n",
      "\n",
      "Vector pi:\n",
      "pi_0 = 0.1490\n",
      "pi_1 = 0.2235\n",
      "pi_2 = 0.2095\n",
      "pi_3 = 0.2144\n",
      "pi_4 = 0.2036\n"
     ]
    }
   ],
   "source": [
    "alpha_3 = np.array([0.30, 0.45, 0.10, 0.10, 0.05])\n",
    "\n",
    "# Compute q and pi\n",
    "q_3, pi_3 = compute_q_pi(P, alpha_3)\n",
    "\n",
    "# Display the results\n",
    "print(\"Vector q:\")\n",
    "for j, q_val in enumerate(q_3):\n",
    "    print(f\"q_{j} = {q_val:.4f}\")\n",
    "\n",
    "print(\"\\nVector pi:\")\n",
    "for j, pi_val in enumerate(pi_3):\n",
    "    print(f\"pi_{j} = {pi_val:.4f}\")"
   ]
  }
 ],
 "metadata": {
  "kernelspec": {
   "display_name": "soccer_analytics",
   "language": "python",
   "name": "python3"
  },
  "language_info": {
   "codemirror_mode": {
    "name": "ipython",
    "version": 3
   },
   "file_extension": ".py",
   "mimetype": "text/x-python",
   "name": "python",
   "nbconvert_exporter": "python",
   "pygments_lexer": "ipython3",
   "version": "3.11.8"
  }
 },
 "nbformat": 4,
 "nbformat_minor": 2
}
